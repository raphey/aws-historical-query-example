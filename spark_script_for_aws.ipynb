{
 "cells": [
  {
   "cell_type": "code",
   "execution_count": 20,
   "id": "lesser-valuable",
   "metadata": {},
   "outputs": [
    {
     "name": "stdout",
     "output_type": "stream",
     "text": [
      "Starting Spark application\n"
     ]
    },
    {
     "data": {
      "text/html": [
       "<table>\n",
       "<tr><th>ID</th><th>YARN Application ID</th><th>Kind</th><th>State</th><th>Spark UI</th><th>Driver log</th><th>User</th><th>Current session?</th></tr><tr><td>19</td><td>application_1616797268065_0020</td><td>pyspark</td><td>idle</td><td><a target=\"_blank\" href=\"http://ip-10-112-39-51.us-west-2.compute.internal:20888/proxy/application_1616797268065_0020/\">Link</a></td><td><a target=\"_blank\" href=\"http://ip-10-112-39-113.us-west-2.compute.internal:8042/node/containerlogs/container_1616797268065_0020_01_000001/livy\">Link</a></td><td>None</td><td>✔</td></tr></table>"
      ],
      "text/plain": [
       "<IPython.core.display.HTML object>"
      ]
     },
     "metadata": {},
     "output_type": "display_data"
    },
    {
     "data": {
      "application/vnd.jupyter.widget-view+json": {
       "model_id": "",
       "version_major": 2,
       "version_minor": 0
      },
      "text/plain": [
       "FloatProgress(value=0.0, bar_style='info', description='Progress:', layout=Layout(height='25px', width='50%'),…"
      ]
     },
     "metadata": {},
     "output_type": "display_data"
    },
    {
     "name": "stdout",
     "output_type": "stream",
     "text": [
      "SparkSession available as 'spark'.\n"
     ]
    },
    {
     "data": {
      "text/html": [
       "Current session configs: <tt>{'conf': {'spark.pyspark.python': 'python3', 'spark.pyspark.virtualenv.enabled': 'true', 'spark.pyspark.virtualenv.type': 'native', 'spark.pyspark.virtualenv.bin.path': '/usr/bin/virtualenv', 'spark.sql.catalogImplementation': 'hive'}, 'kind': 'pyspark'}</tt><br>"
      ],
      "text/plain": [
       "<IPython.core.display.HTML object>"
      ]
     },
     "metadata": {},
     "output_type": "display_data"
    },
    {
     "data": {
      "text/html": [
       "<table>\n",
       "<tr><th>ID</th><th>YARN Application ID</th><th>Kind</th><th>State</th><th>Spark UI</th><th>Driver log</th><th>User</th><th>Current session?</th></tr><tr><td>19</td><td>application_1616797268065_0020</td><td>pyspark</td><td>idle</td><td><a target=\"_blank\" href=\"http://ip-10-112-39-51.us-west-2.compute.internal:20888/proxy/application_1616797268065_0020/\">Link</a></td><td><a target=\"_blank\" href=\"http://ip-10-112-39-113.us-west-2.compute.internal:8042/node/containerlogs/container_1616797268065_0020_01_000001/livy\">Link</a></td><td>None</td><td>✔</td></tr></table>"
      ],
      "text/plain": [
       "<IPython.core.display.HTML object>"
      ]
     },
     "metadata": {},
     "output_type": "display_data"
    }
   ],
   "source": [
    "%%configure -f\n",
    "{ \"conf\":{\n",
    "          \"spark.pyspark.python\": \"python3\",\n",
    "          \"spark.pyspark.virtualenv.enabled\": \"true\",\n",
    "          \"spark.pyspark.virtualenv.type\":\"native\",\n",
    "          \"spark.pyspark.virtualenv.bin.path\":\"/usr/bin/virtualenv\",\n",
    "          \"spark.sql.catalogImplementation\":\"hive\"\n",
    "         }\n",
    "}"
   ]
  },
  {
   "cell_type": "code",
   "execution_count": 21,
   "id": "phantom-russian",
   "metadata": {},
   "outputs": [
    {
     "data": {
      "application/vnd.jupyter.widget-view+json": {
       "model_id": "",
       "version_major": 2,
       "version_minor": 0
      },
      "text/plain": [
       "FloatProgress(value=0.0, bar_style='info', description='Progress:', layout=Layout(height='25px', width='50%'),…"
      ]
     },
     "metadata": {},
     "output_type": "display_data"
    }
   ],
   "source": [
    "# Import pyspark and build Spark session\n",
    "\n",
    "from pyspark.sql import SparkSession\n",
    "from pyspark.sql.functions import datediff\n",
    "from pyspark.sql.functions import lit\n",
    "from pyspark.sql.functions import max as sql_max\n",
    "from pyspark.sql.functions import min as sql_min\n",
    "from pyspark.sql.types import StringType\n",
    "from pyspark.sql.types import StructField\n",
    "from pyspark.sql.types import StructType\n",
    "\n",
    "spark = SparkSession.builder.appName(\"PySparkApp\").getOrCreate()"
   ]
  },
  {
   "cell_type": "code",
   "execution_count": 22,
   "id": "reverse-assessment",
   "metadata": {},
   "outputs": [
    {
     "data": {
      "application/vnd.jupyter.widget-view+json": {
       "model_id": "",
       "version_major": 2,
       "version_minor": 0
      },
      "text/plain": [
       "FloatProgress(value=0.0, bar_style='info', description='Progress:', layout=Layout(height='25px', width='50%'),…"
      ]
     },
     "metadata": {},
     "output_type": "display_data"
    }
   ],
   "source": [
    "# Set feature Store s3 path\n",
    "BUCKET = \"jmackay-offline-feature-store-test\"\n",
    "PREFIX = \"sagemaker-featurestore/760493221347/sagemaker/us-west-2/offline-store/my-feature-group-077\"\n",
    "FEATURE_STORE_PATH = f\"s3://{BUCKET}/{PREFIX}/data\""
   ]
  },
  {
   "cell_type": "code",
   "execution_count": 23,
   "id": "neither-concept",
   "metadata": {},
   "outputs": [
    {
     "data": {
      "application/vnd.jupyter.widget-view+json": {
       "model_id": "",
       "version_major": 2,
       "version_minor": 0
      },
      "text/plain": [
       "FloatProgress(value=0.0, bar_style='info', description='Progress:', layout=Layout(height='25px', width='50%'),…"
      ]
     },
     "metadata": {},
     "output_type": "display_data"
    },
    {
     "name": "stdout",
     "output_type": "stream",
     "text": [
      "+---+--------------------+---------+--------------------+-------------------+----------+----+-----+---+----+\n",
      "| id|          event_time|feature_1|          write_time|api_invocation_time|is_deleted|year|month|day|hour|\n",
      "+---+--------------------+---------+--------------------+-------------------+----------+----+-----+---+----+\n",
      "|  4|2021-03-03T20:51:...|      4.3|2021-03-19 22:12:...|2021-03-19 22:07:02|     false|2021|    3|  3|  20|\n",
      "|  5|2021-03-03T20:51:...|      5.3|2021-03-19 22:12:...|2021-03-19 22:07:02|     false|2021|    3|  3|  20|\n",
      "|  4|2021-03-02T20:51:...|      4.2|2021-03-19 22:12:...|2021-03-19 22:07:02|     false|2021|    3|  2|  20|\n",
      "|  5|2021-03-02T20:51:...|      5.2|2021-03-19 22:12:...|2021-03-19 22:07:02|     false|2021|    3|  2|  20|\n",
      "|  4|2021-03-01T20:51:...|      4.1|2021-03-19 22:12:...|2021-03-19 22:07:01|     false|2021|    3|  1|  20|\n",
      "|  5|2021-03-01T20:51:...|      5.1|2021-03-19 22:12:...|2021-03-19 22:07:01|     false|2021|    3|  1|  20|\n",
      "|  4|2021-03-05T20:51:...|      4.5|2021-03-19 22:12:...|2021-03-19 22:07:01|     false|2021|    3|  5|  20|\n",
      "|  5|2021-03-05T20:51:...|      5.5|2021-03-19 22:12:...|2021-03-19 22:07:01|     false|2021|    3|  5|  20|\n",
      "|  5|2021-03-04T20:51:...|      5.4|2021-03-19 22:12:...|2021-03-19 22:07:00|     false|2021|    3|  4|  20|\n",
      "|  4|2021-03-04T20:51:...|      4.4|2021-03-19 22:12:...|2021-03-19 22:07:02|     false|2021|    3|  4|  20|\n",
      "|  2|2021-03-04T22:51:...|      2.4|2021-03-19 22:12:...|2021-03-19 22:07:02|     false|2021|    3|  4|  22|\n",
      "|  1|2021-03-04T22:51:...|      1.4|2021-03-19 22:12:...|2021-03-19 22:07:02|     false|2021|    3|  4|  22|\n",
      "|  3|2019-03-03T22:51:...|      3.3|2021-03-19 22:12:...|2021-03-19 22:07:02|     false|2019|    3|  3|  22|\n",
      "|  1|2021-03-02T22:51:...|      1.2|2021-03-19 22:12:...|2021-03-19 22:07:02|     false|2021|    3|  2|  22|\n",
      "|  2|2021-03-02T22:51:...|      2.2|2021-03-19 22:12:...|2021-03-19 22:07:02|     false|2021|    3|  2|  22|\n",
      "|  3|2019-03-04T22:51:...|      3.4|2021-03-19 22:12:...|2021-03-19 22:07:01|     false|2019|    3|  4|  22|\n",
      "|  3|2019-03-02T22:51:...|      3.2|2021-03-19 22:12:...|2021-03-19 22:07:00|     false|2019|    3|  2|  22|\n",
      "|  2|2021-03-05T22:51:...|      2.5|2021-03-19 22:12:...|2021-03-19 22:07:01|     false|2021|    3|  5|  22|\n",
      "|  1|2021-03-05T22:51:...|      1.5|2021-03-19 22:12:...|2021-03-19 22:07:01|     false|2021|    3|  5|  22|\n",
      "|  2|2021-03-01T22:51:...|      2.1|2021-03-19 22:12:...|2021-03-19 22:07:01|     false|2021|    3|  1|  22|\n",
      "+---+--------------------+---------+--------------------+-------------------+----------+----+-----+---+----+\n",
      "only showing top 20 rows"
     ]
    }
   ],
   "source": [
    "# Read and show feature store DF\n",
    "feature_store_df = spark.read.parquet(FEATURE_STORE_PATH)\n",
    "feature_store_df.show()"
   ]
  },
  {
   "cell_type": "code",
   "execution_count": 24,
   "id": "southeast-voluntary",
   "metadata": {},
   "outputs": [
    {
     "data": {
      "application/vnd.jupyter.widget-view+json": {
       "model_id": "",
       "version_major": 2,
       "version_minor": 0
      },
      "text/plain": [
       "FloatProgress(value=0.0, bar_style='info', description='Progress:', layout=Layout(height='25px', width='50%'),…"
      ]
     },
     "metadata": {},
     "output_type": "display_data"
    },
    {
     "name": "stdout",
     "output_type": "stream",
     "text": [
      "+---+--------------------+\n",
      "| id|          query_time|\n",
      "+---+--------------------+\n",
      "|  1|2021-03-05T00:00:00Z|\n",
      "|  4|2021-03-04T00:00:00Z|\n",
      "|  5|2021-03-25T00:00:00Z|\n",
      "+---+--------------------+"
     ]
    }
   ],
   "source": [
    "# Create and show the query DF\n",
    "sc = spark.sparkContext\n",
    "query_df_schema = StructType([\n",
    "    StructField('id', StringType(), False),\n",
    "    StructField('query_time', StringType(), False)\n",
    "])\n",
    "\n",
    "query_df = spark.createDataFrame(\n",
    "    [\n",
    "        [\"1\", \"2021-03-05T00:00:00Z\"],\n",
    "        [\"4\", \"2021-03-04T00:00:00Z\"],\n",
    "        [\"5\", \"2021-03-25T00:00:00Z\"],\n",
    "    ],\n",
    "    query_df_schema)\n",
    "\n",
    "\n",
    "# To instead load this query df from s3:\n",
    "# QUERY_PATH = f\"s3://{BUCKET}/{PREFIX}/test_query.parquet\"\n",
    "# query_df = spark.read.parquet(QUERY_PATH)\n",
    "\n",
    "query_df.show()"
   ]
  },
  {
   "cell_type": "code",
   "execution_count": 25,
   "id": "tough-indie",
   "metadata": {},
   "outputs": [
    {
     "data": {
      "application/vnd.jupyter.widget-view+json": {
       "model_id": "",
       "version_major": 2,
       "version_minor": 0
      },
      "text/plain": [
       "FloatProgress(value=0.0, bar_style='info', description='Progress:', layout=Layout(height='25px', width='50%'),…"
      ]
     },
     "metadata": {},
     "output_type": "display_data"
    }
   ],
   "source": [
    "# Compute min and max times over our query data for filtering, in one pass for performance\n",
    "minmax_time = query_df.agg(sql_min(\"query_time\"), sql_max(\"query_time\")).collect()\n",
    "min_time, max_time = minmax_time[0][\"min(query_time)\"], minmax_time[0][\"max(query_time)\"]"
   ]
  },
  {
   "cell_type": "code",
   "execution_count": 26,
   "id": "employed-webcam",
   "metadata": {},
   "outputs": [
    {
     "data": {
      "application/vnd.jupyter.widget-view+json": {
       "model_id": "",
       "version_major": 2,
       "version_minor": 0
      },
      "text/plain": [
       "FloatProgress(value=0.0, bar_style='info', description='Progress:', layout=Layout(height='25px', width='50%'),…"
      ]
     },
     "metadata": {},
     "output_type": "display_data"
    }
   ],
   "source": [
    "# Filter deleted records out\n",
    "filtered = feature_store_df.filter(~feature_store_df.is_deleted)"
   ]
  },
  {
   "cell_type": "code",
   "execution_count": 27,
   "id": "chief-cherry",
   "metadata": {},
   "outputs": [
    {
     "data": {
      "application/vnd.jupyter.widget-view+json": {
       "model_id": "",
       "version_major": 2,
       "version_minor": 0
      },
      "text/plain": [
       "FloatProgress(value=0.0, bar_style='info', description='Progress:', layout=Layout(height='25px', width='50%'),…"
      ]
     },
     "metadata": {},
     "output_type": "display_data"
    }
   ],
   "source": [
    "# Filter out records from after highest query time and before staleness window\n",
    "# This is a performance optimization; doing this prior to individual (shopper, query_time) filtering will be faster\n",
    "allowed_staleness_days = 4\n",
    "filtered = filtered.filter(\n",
    "    (datediff(lit(min_time), feature_store_df.event_time) <= allowed_staleness_days)\n",
    "    & (feature_store_df.event_time <= max_time)\n",
    ")"
   ]
  },
  {
   "cell_type": "code",
   "execution_count": 28,
   "id": "outdoor-combination",
   "metadata": {},
   "outputs": [
    {
     "data": {
      "application/vnd.jupyter.widget-view+json": {
       "model_id": "",
       "version_major": 2,
       "version_minor": 0
      },
      "text/plain": [
       "FloatProgress(value=0.0, bar_style='info', description='Progress:', layout=Layout(height='25px', width='50%'),…"
      ]
     },
     "metadata": {},
     "output_type": "display_data"
    }
   ],
   "source": [
    "# Join with query set; drop duplicate id field\n",
    "joined = filtered.join(query_df, feature_store_df.id == query_df.id, \"inner\").drop(query_df.id)"
   ]
  },
  {
   "cell_type": "code",
   "execution_count": 29,
   "id": "revolutionary-hopkins",
   "metadata": {},
   "outputs": [
    {
     "data": {
      "application/vnd.jupyter.widget-view+json": {
       "model_id": "",
       "version_major": 2,
       "version_minor": 0
      },
      "text/plain": [
       "FloatProgress(value=0.0, bar_style='info', description='Progress:', layout=Layout(height='25px', width='50%'),…"
      ]
     },
     "metadata": {},
     "output_type": "display_data"
    }
   ],
   "source": [
    "# Filter out data from after query time or before query time minus staleness window\n",
    "drop_future_and_stale = joined.filter(\n",
    "    (feature_store_df.event_time <= query_df.query_time)\n",
    "    & (datediff(query_df.query_time, feature_store_df.event_time) <= allowed_staleness_days)\n",
    ")"
   ]
  },
  {
   "cell_type": "code",
   "execution_count": 30,
   "id": "another-lodge",
   "metadata": {},
   "outputs": [
    {
     "data": {
      "application/vnd.jupyter.widget-view+json": {
       "model_id": "",
       "version_major": 2,
       "version_minor": 0
      },
      "text/plain": [
       "FloatProgress(value=0.0, bar_style='info', description='Progress:', layout=Layout(height='25px', width='50%'),…"
      ]
     },
     "metadata": {},
     "output_type": "display_data"
    }
   ],
   "source": [
    "# Group by id and take latest record\n",
    "take_latest = (\n",
    "    drop_future_and_stale.rdd.map(lambda x: (x.id, x))  # to RDD with KVPs so we can use efficient reduceByKey\n",
    "    .reduceByKey(\n",
    "        lambda x, y: x if ((x.event_time, x.api_invocation_time) >= (y.event_time, y.api_invocation_time)) else y\n",
    "    )  # Use API invocation time as tie-breaker\n",
    "    .values()  # drop keys\n",
    ")"
   ]
  },
  {
   "cell_type": "code",
   "execution_count": 31,
   "id": "coordinated-collapse",
   "metadata": {},
   "outputs": [
    {
     "data": {
      "application/vnd.jupyter.widget-view+json": {
       "model_id": "",
       "version_major": 2,
       "version_minor": 0
      },
      "text/plain": [
       "FloatProgress(value=0.0, bar_style='info', description='Progress:', layout=Layout(height='25px', width='50%'),…"
      ]
     },
     "metadata": {},
     "output_type": "display_data"
    }
   ],
   "source": [
    "# Convert to DF\n",
    "latest_df = take_latest.toDF(drop_future_and_stale.schema)"
   ]
  },
  {
   "cell_type": "code",
   "execution_count": 32,
   "id": "helpful-frost",
   "metadata": {},
   "outputs": [
    {
     "data": {
      "application/vnd.jupyter.widget-view+json": {
       "model_id": "",
       "version_major": 2,
       "version_minor": 0
      },
      "text/plain": [
       "FloatProgress(value=0.0, bar_style='info', description='Progress:', layout=Layout(height='25px', width='50%'),…"
      ]
     },
     "metadata": {},
     "output_type": "display_data"
    }
   ],
   "source": [
    "# Drop extra columns\n",
    "columns_to_drop = [\"write_time\", \"is_deleted\", \"year\", \"month\", \"day\", \"hour\", \"query_time\", \"api_invocation_time\"]\n",
    "selected = latest_df.drop(*columns_to_drop)"
   ]
  },
  {
   "cell_type": "code",
   "execution_count": 33,
   "id": "demonstrated-plant",
   "metadata": {},
   "outputs": [
    {
     "data": {
      "application/vnd.jupyter.widget-view+json": {
       "model_id": "",
       "version_major": 2,
       "version_minor": 0
      },
      "text/plain": [
       "FloatProgress(value=0.0, bar_style='info', description='Progress:', layout=Layout(height='25px', width='50%'),…"
      ]
     },
     "metadata": {},
     "output_type": "display_data"
    },
    {
     "name": "stdout",
     "output_type": "stream",
     "text": [
      "+---+--------------------+---------+\n",
      "| id|          event_time|feature_1|\n",
      "+---+--------------------+---------+\n",
      "|  4|2021-03-03T20:51:...|      4.3|\n",
      "|  1|2021-03-04T22:51:...|      1.4|\n",
      "+---+--------------------+---------+"
     ]
    }
   ],
   "source": [
    "# Show query result\n",
    "selected.show()\n",
    "\n",
    "# To save query result to s3:\n",
    "# OUTPUT_PATH = f\"s3://{BUCKET}/{PREFIX}/test_query_output\"\n",
    "# selected.write.parquet(OUTPUT_PATH, mode=\"overwrite\")"
   ]
  }
 ],
 "metadata": {
  "kernelspec": {
   "display_name": "Sparkmagic (PySpark)",
   "language": "python",
   "name": "pysparkkernel"
  },
  "language_info": {
   "codemirror_mode": {
    "name": "python",
    "version": 3
   },
   "file_extension": ".py",
   "mimetype": "text/x-python",
   "name": "pyspark",
   "pygments_lexer": "python3"
  }
 },
 "nbformat": 4,
 "nbformat_minor": 5
}
